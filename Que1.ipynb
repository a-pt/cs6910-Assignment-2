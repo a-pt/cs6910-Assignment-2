{
  "nbformat": 4,
  "nbformat_minor": 0,
  "metadata": {
    "colab": {
      "name": "Que1_variables.ipynb",
      "provenance": [],
      "collapsed_sections": []
    },
    "kernelspec": {
      "name": "python3",
      "display_name": "Python 3"
    },
    "language_info": {
      "name": "python"
    }
  },
  "cells": [
    {
      "cell_type": "code",
      "metadata": {
        "colab": {
          "base_uri": "https://localhost:8080/"
        },
        "id": "jk8KDSYTdgxc",
        "outputId": "ba13a172-5536-4d54-fde7-2dbc8fc580a3"
      },
      "source": [
        "from google.colab import drive\n",
        "drive.mount('/content/drive/')"
      ],
      "execution_count": null,
      "outputs": [
        {
          "output_type": "stream",
          "text": [
            "Mounted at /content/drive/\n"
          ],
          "name": "stdout"
        }
      ]
    },
    {
      "cell_type": "code",
      "metadata": {
        "id": "amcOu7dmdjZk"
      },
      "source": [
        "import numpy as np\n",
        "import keras\n",
        "import cv2, os\n",
        "import tensorflow as tf\n",
        "from tensorflow.keras import datasets, layers, models\n",
        "import matplotlib.pyplot as plt\n",
        "from glob import glob\n",
        "from keras.preprocessing.image import ImageDataGenerator\n",
        "from keras.models import Sequential\n",
        "from keras.layers import Conv2D,MaxPooling2D\n",
        "from keras.layers import Dense, Activation, Flatten, Dropout\n",
        "from keras.preprocessing import image\n",
        "from keras import backend as K"
      ],
      "execution_count": null,
      "outputs": []
    },
    {
      "cell_type": "code",
      "metadata": {
        "id": "aaWMk-6GdjV_"
      },
      "source": [
        "train_path = '/content/drive/MyDrive/Assignment 2 Deep Learning/nature_12K/inaturalist_12K/train' \n",
        "test_path = '/content/drive/MyDrive/Assignment 2 Deep Learning/nature_12K/inaturalist_12K/val'"
      ],
      "execution_count": null,
      "outputs": []
    },
    {
      "cell_type": "code",
      "metadata": {
        "id": "2AwrWasWdjOw"
      },
      "source": [
        "train_data_gen = ImageDataGenerator(rescale=1./255) \n",
        "test_data_gen = ImageDataGenerator(rescale=1./255) "
      ],
      "execution_count": null,
      "outputs": []
    },
    {
      "cell_type": "code",
      "metadata": {
        "id": "UZ3ydaP4eHDO"
      },
      "source": [
        "#inputs\n",
        "img_width, img_height = 150,150\n",
        "num_of_filters = 16\n",
        "size_of_filters = 3 \n",
        "activation_function = 'relu'\n",
        "neurons_in_dense_layer = 64\n",
        "batch_size = 16\n",
        "epoch = 5"
      ],
      "execution_count": null,
      "outputs": []
    },
    {
      "cell_type": "code",
      "metadata": {
        "colab": {
          "base_uri": "https://localhost:8080/"
        },
        "id": "QNCRdBTVplxY",
        "outputId": "e7977c14-dd22-4401-c123-9da39c7ac42a"
      },
      "source": [
        "train_gen = train_data_gen.flow_from_directory(\n",
        "    train_path,\n",
        "    target_size = (img_width, img_height)\n",
        ")\n",
        "val_gen = test_data_gen.flow_from_directory(\n",
        "    test_path,\n",
        "    target_size = (img_width, img_height)\n",
        ")"
      ],
      "execution_count": null,
      "outputs": [
        {
          "output_type": "stream",
          "text": [
            "Found 10041 images belonging to 10 classes.\n",
            "Found 2015 images belonging to 10 classes.\n"
          ],
          "name": "stdout"
        }
      ]
    },
    {
      "cell_type": "code",
      "metadata": {
        "id": "dXOS7Xaldwki"
      },
      "source": [
        "model = Sequential()\n",
        "model.add(Conv2D(num_of_filters, (size_of_filters, size_of_filters), input_shape=(img_width, img_height,3)))\n",
        "model.add(Activation(activation_function))\n",
        "model.add(MaxPooling2D(pool_size=(2, 2)))\n",
        "\n",
        "num_of_filters = 2*num_of_filters\n",
        "model.add(Conv2D(num_of_filters, (size_of_filters, size_of_filters)))\n",
        "model.add(Activation(activation_function))\n",
        "model.add(MaxPooling2D(pool_size=(2, 2)))\n",
        "\n",
        "num_of_filters = 2*num_of_filters\n",
        "model.add(Conv2D(num_of_filters, (size_of_filters, size_of_filters)))\n",
        "model.add(Activation(activation_function))\n",
        "model.add(MaxPooling2D(pool_size=(2, 2)))\n",
        "\n",
        "num_of_filters = 2*num_of_filters\n",
        "model.add(Conv2D(num_of_filters, (size_of_filters, size_of_filters)))\n",
        "model.add(Activation(activation_function))\n",
        "model.add(MaxPooling2D(pool_size=(2, 2)))\n",
        "\n",
        "num_of_filters = 2*num_of_filters\n",
        "model.add(Conv2D(num_of_filters, (size_of_filters, size_of_filters)))\n",
        "model.add(Activation(activation_function))\n",
        "model.add(MaxPooling2D(pool_size=(2, 2)))"
      ],
      "execution_count": null,
      "outputs": []
    },
    {
      "cell_type": "code",
      "metadata": {
        "id": "oAniqEv9dwg_"
      },
      "source": [
        "model.add(Flatten())\n",
        "model.add(Dense(neurons_in_dense_layer))\n",
        "model.add(Activation(activation_function))\n",
        "model.add(Dense(10))"
      ],
      "execution_count": null,
      "outputs": []
    },
    {
      "cell_type": "code",
      "metadata": {
        "colab": {
          "base_uri": "https://localhost:8080/"
        },
        "id": "E-QOwzugdweT",
        "outputId": "e436b906-80ed-485e-a767-f439359677ec"
      },
      "source": [
        "model.summary()"
      ],
      "execution_count": null,
      "outputs": [
        {
          "output_type": "stream",
          "text": [
            "Model: \"sequential\"\n",
            "_________________________________________________________________\n",
            "Layer (type)                 Output Shape              Param #   \n",
            "=================================================================\n",
            "conv2d (Conv2D)              (None, 148, 148, 16)      448       \n",
            "_________________________________________________________________\n",
            "activation (Activation)      (None, 148, 148, 16)      0         \n",
            "_________________________________________________________________\n",
            "max_pooling2d (MaxPooling2D) (None, 74, 74, 16)        0         \n",
            "_________________________________________________________________\n",
            "conv2d_1 (Conv2D)            (None, 72, 72, 32)        4640      \n",
            "_________________________________________________________________\n",
            "activation_1 (Activation)    (None, 72, 72, 32)        0         \n",
            "_________________________________________________________________\n",
            "max_pooling2d_1 (MaxPooling2 (None, 36, 36, 32)        0         \n",
            "_________________________________________________________________\n",
            "conv2d_2 (Conv2D)            (None, 34, 34, 64)        18496     \n",
            "_________________________________________________________________\n",
            "activation_2 (Activation)    (None, 34, 34, 64)        0         \n",
            "_________________________________________________________________\n",
            "max_pooling2d_2 (MaxPooling2 (None, 17, 17, 64)        0         \n",
            "_________________________________________________________________\n",
            "conv2d_3 (Conv2D)            (None, 15, 15, 128)       73856     \n",
            "_________________________________________________________________\n",
            "activation_3 (Activation)    (None, 15, 15, 128)       0         \n",
            "_________________________________________________________________\n",
            "max_pooling2d_3 (MaxPooling2 (None, 7, 7, 128)         0         \n",
            "_________________________________________________________________\n",
            "conv2d_4 (Conv2D)            (None, 5, 5, 256)         295168    \n",
            "_________________________________________________________________\n",
            "activation_4 (Activation)    (None, 5, 5, 256)         0         \n",
            "_________________________________________________________________\n",
            "max_pooling2d_4 (MaxPooling2 (None, 2, 2, 256)         0         \n",
            "_________________________________________________________________\n",
            "flatten (Flatten)            (None, 1024)              0         \n",
            "_________________________________________________________________\n",
            "dense (Dense)                (None, 64)                65600     \n",
            "_________________________________________________________________\n",
            "activation_5 (Activation)    (None, 64)                0         \n",
            "_________________________________________________________________\n",
            "dense_1 (Dense)              (None, 10)                650       \n",
            "=================================================================\n",
            "Total params: 458,858\n",
            "Trainable params: 458,858\n",
            "Non-trainable params: 0\n",
            "_________________________________________________________________\n"
          ],
          "name": "stdout"
        }
      ]
    },
    {
      "cell_type": "code",
      "metadata": {
        "id": "BVU9w28JdwcN",
        "colab": {
          "base_uri": "https://localhost:8080/"
        },
        "outputId": "29057f90-61da-43ac-8a76-40926f4be29e"
      },
      "source": [
        "model.compile(optimizer='adam',\n",
        "            loss=tf.keras.losses.CategoricalCrossentropy(from_logits=True),\n",
        "            metrics=['accuracy'])\n",
        "\n",
        "train_samples = 5000\n",
        "val_samples = 500\n",
        "history = model.fit_generator(train_gen,\n",
        "                  steps_per_epoch = train_samples//batch_size,\n",
        "                  epochs = epoch,\n",
        "                  validation_data = val_gen,\n",
        "                  validation_steps = val_samples//batch_size\n",
        "                  )"
      ],
      "execution_count": null,
      "outputs": [
        {
          "output_type": "stream",
          "text": [
            "/usr/local/lib/python3.7/dist-packages/tensorflow/python/keras/engine/training.py:1844: UserWarning: `Model.fit_generator` is deprecated and will be removed in a future version. Please use `Model.fit`, which supports generators.\n",
            "  warnings.warn('`Model.fit_generator` is deprecated and '\n"
          ],
          "name": "stderr"
        },
        {
          "output_type": "stream",
          "text": [
            "Epoch 1/5\n",
            "312/312 [==============================] - 4665s 15s/step - loss: 2.2438 - accuracy: 0.1512 - val_loss: 2.1546 - val_accuracy: 0.2026\n",
            "Epoch 2/5\n",
            "312/312 [==============================] - 584s 2s/step - loss: 2.1489 - accuracy: 0.2123 - val_loss: 2.1258 - val_accuracy: 0.2147\n",
            "Epoch 3/5\n",
            "312/312 [==============================] - 452s 1s/step - loss: 2.0627 - accuracy: 0.2519 - val_loss: 2.0580 - val_accuracy: 0.2581\n",
            "Epoch 4/5\n",
            "312/312 [==============================] - 390s 1s/step - loss: 1.9856 - accuracy: 0.2821 - val_loss: 1.9937 - val_accuracy: 0.2802\n",
            "Epoch 5/5\n",
            "312/312 [==============================] - 366s 1s/step - loss: 1.9432 - accuracy: 0.3005 - val_loss: 1.9605 - val_accuracy: 0.3014\n"
          ],
          "name": "stdout"
        }
      ]
    },
    {
      "cell_type": "code",
      "metadata": {
        "id": "ki1RdsYOdwZz"
      },
      "source": [
        "#Loss\n",
        "plt.plot(history.history['loss']) \n",
        "plt.plot(history.history['val_loss']) \n",
        "plt.title('Model loss') \n",
        "plt.ylabel('Loss') \n",
        "plt.xlabel('Epoch') \n",
        "plt.legend(['Train', 'Test']) \n",
        "plt.show()"
      ],
      "execution_count": null,
      "outputs": []
    },
    {
      "cell_type": "code",
      "metadata": {
        "id": "l_s6wjRTdwUG"
      },
      "source": [
        "#Accuracy\n",
        "plt.plot(history.history['accuracy'])\n",
        "plt.plot(history.history['val_accuracy'])\n",
        "plt.title('Model accuracy')\n",
        "plt.ylabel('Accuracy')\n",
        "plt.xlabel('Epoch')\n",
        "plt.legend(['Train', 'Test'], loc='upper left')\n",
        "plt.show()"
      ],
      "execution_count": null,
      "outputs": []
    },
    {
      "cell_type": "code",
      "metadata": {
        "id": "V9uoQYhYdjKD"
      },
      "source": [
        ""
      ],
      "execution_count": null,
      "outputs": []
    },
    {
      "cell_type": "code",
      "metadata": {
        "id": "c6dl5btHdjIO"
      },
      "source": [
        ""
      ],
      "execution_count": null,
      "outputs": []
    }
  ]
}